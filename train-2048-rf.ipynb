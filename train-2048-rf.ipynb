{
 "cells": [
  {
   "cell_type": "code",
   "execution_count": 1,
   "metadata": {},
   "outputs": [],
   "source": [
    "import os\n",
    "import cv2\n",
    "import pandas as pd\n",
    "import math\n",
    "import numpy as np\n",
    "import warnings\n",
    "warnings.filterwarnings(\"ignore\")\n",
    "\n",
    "GAME_STATE_FILE_NAME = \"game\"\n",
    "GAME_STATE_FILE_EXT = \".csv\"\n",
    "GAMES_DIR = \"games/\"\n",
    "PROCESSED_GAMES_DIR = \"processed_games/\"\n",
    "MODEL_NAME = \"2048_model.h5\"\n",
    "MOVES = [\"UP\", \"DOWN\", \"LEFT\", \"RIGHT\"]\n",
    "MOVE_COL_NAME = \"MOVE\"\n",
    "N_SIZE = 4\n",
    "N_FILES = len(os.listdir(PROCESSED_GAMES_DIR))\n",
    "TRAIN_MODEL = True\n",
    "\n",
    "def load_data(file, direc=GAMES_DIR, header=True):\n",
    "    csv_path = os.path.join(direc, file)\n",
    "    if header:\n",
    "        return pd.read_csv(csv_path)\n",
    "    else:\n",
    "        return pd.read_csv(csv_path, header=None)"
   ]
  },
  {
   "cell_type": "code",
   "execution_count": 2,
   "metadata": {},
   "outputs": [],
   "source": [
    "def get_features_labels(n_file, direc, group_n_games=N_FILES, validation=False):\n",
    "    x = []\n",
    "    y = []\n",
    "    \n",
    "    if not validation:\n",
    "        group_n_games = 1\n",
    "        \n",
    "    for indx in range(group_n_games):\n",
    "        \n",
    "        filename = GAME_STATE_FILE_NAME + str(n_file % N_FILES) + GAME_STATE_FILE_EXT\n",
    "        n_file = n_file - 1\n",
    "        \n",
    "        data = load_data(file=filename, direc=direc)\n",
    "    \n",
    "        labels = data[MOVE_COL_NAME].values\n",
    "        data.drop(MOVE_COL_NAME, axis=1, inplace=True)\n",
    "        #binarizer = LabelBinarizer()\n",
    "        #binarizer.fit([0, 1, 2, 3])\n",
    "        #labels = binarizer.transform(labels)\n",
    "\n",
    "        features = data.values\n",
    "        #features = np.reshape(features, (-1, N_SIZE, N_SIZE, 1))\n",
    "        \n",
    "        if len(x) == 0:\n",
    "            x = features\n",
    "            y = labels\n",
    "        else:\n",
    "            x = np.concatenate((x, features), axis=0)\n",
    "            y = np.concatenate((y, labels), axis=0)\n",
    "                                              \n",
    "    return x, y"
   ]
  },
  {
   "cell_type": "code",
   "execution_count": 3,
   "metadata": {},
   "outputs": [
    {
     "name": "stdout",
     "output_type": "stream",
     "text": [
      "{'max_depth': 16}\n",
      "Cross Val Scores on training set\n",
      " 0.3914329268292682\n",
      "\n",
      "\n",
      "Accuracy on testing data set\n",
      " 0.7509140888047138\n"
     ]
    }
   ],
   "source": [
    "# Random Forest Classifier\n",
    "from sklearn.ensemble import RandomForestClassifier \n",
    "from sklearn.model_selection import cross_val_score\n",
    "from sklearn.base import clone\n",
    "from sklearn.model_selection import GridSearchCV\n",
    "\n",
    "parameters = {\n",
    "    'max_depth' : [9, 10, 11, 12, 13, 14, 15, 16],\n",
    "}\n",
    "\n",
    "clf = GridSearchCV(RandomForestClassifier(random_state=42), parameters)\n",
    "\n",
    "features, labels = get_features_labels(1, direc=PROCESSED_GAMES_DIR)\n",
    "val_features, val_labels = get_features_labels(0, group_n_games=N_FILES - 1, direc=PROCESSED_GAMES_DIR, validation=True)\n",
    "\n",
    "clf.fit(val_features, val_labels)\n",
    "print(clf.best_params_)\n",
    "\n",
    "forest_clf = RandomForestClassifier(random_state=42, max_depth=16)\n",
    "print(\"Cross Val Scores on training set\\n\", np.mean(cross_val_score(clone(forest_clf), features, labels, cv=N_FILES, scoring=\"accuracy\")))\n",
    "\n",
    "forest_clf.fit(val_features, val_labels)\n",
    "print(\"\\n\\nAccuracy on testing data set\\n\", sum(val_labels == forest_clf.predict(val_features)) / len(val_labels))"
   ]
  },
  {
   "cell_type": "code",
   "execution_count": null,
   "metadata": {},
   "outputs": [],
   "source": []
  }
 ],
 "metadata": {
  "kernelspec": {
   "display_name": "Python 3",
   "language": "python",
   "name": "python3"
  },
  "language_info": {
   "codemirror_mode": {
    "name": "ipython",
    "version": 3
   },
   "file_extension": ".py",
   "mimetype": "text/x-python",
   "name": "python",
   "nbconvert_exporter": "python",
   "pygments_lexer": "ipython3",
   "version": "3.6.4"
  }
 },
 "nbformat": 4,
 "nbformat_minor": 2
}
