{
 "cells": [
  {
   "cell_type": "code",
   "execution_count": 8,
   "metadata": {},
   "outputs": [],
   "source": [
    "import os\n",
    "import cv2\n",
    "import pandas as pd\n",
    "import math\n",
    "import numpy as np\n",
    "import warnings\n",
    "warnings.filterwarnings(\"ignore\")\n",
    "\n",
    "GAME_STATE_FILE_NAME = \"game\"\n",
    "GAME_STATE_FILE_EXT = \".csv\"\n",
    "GAMES_DIR = \"games/\"\n",
    "PROCESSED_GAMES_DIR = \"processed_games/\"\n",
    "MODEL_NAME = \"2048_model.h5\"\n",
    "MOVES = [\"UP\", \"DOWN\", \"LEFT\", \"RIGHT\"]\n",
    "MOVE_COL_NAME = \"MOVE\"\n",
    "FILE_HEADER = [\"\"]\n",
    "N_SIZE = 4\n",
    "N_FILES = len(os.listdir(GAMES_DIR))\n",
    "\n",
    "SHOW_GRAPHS = False\n",
    "MAX_CELL_VALUE_THRESHOLD = 10\n",
    "CAP_MAX_CELL_VALUE = False\n",
    "CELL_VALUE_RELATIVE_NORMALIZATION = True\n",
    "DATA_AUGMENTATION = False\n",
    "\n",
    "def load_data(file, direc=GAMES_DIR, header=True):\n",
    "    csv_path = os.path.join(direc, file)\n",
    "    if header:\n",
    "        return pd.read_csv(csv_path)\n",
    "    else:\n",
    "        return pd.read_csv(csv_path, header=None)"
   ]
  },
  {
   "cell_type": "code",
   "execution_count": 2,
   "metadata": {},
   "outputs": [],
   "source": [
    "def extract_move(row):\n",
    "    move = np.int16(row[len(row) - 1])\n",
    "    row = row[:len(row) - 1]\n",
    "    return move, row"
   ]
  },
  {
   "cell_type": "code",
   "execution_count": 3,
   "metadata": {},
   "outputs": [],
   "source": [
    "def normalize_row(row):\n",
    "    row = np.float16(row)\n",
    "    row = np.add(row, 1)\n",
    "    row = np.log2(row)\n",
    "    row = np.int16(row)\n",
    "    \n",
    "    if CELL_VALUE_RELATIVE_NORMALIZATION:\n",
    "        min_val = 100\n",
    "        for val in row:\n",
    "            if val == 0:\n",
    "                continue\n",
    "\n",
    "            if min_val > val:\n",
    "                min_val = val\n",
    "\n",
    "        if min_val > 0:\n",
    "            row = np.subtract(row, min_val - 1)\n",
    "        \n",
    "    row_max = np.max(row)\n",
    "    row = row / row_max\n",
    "    row = np.round(row, 6)\n",
    "    return row\n"
   ]
  },
  {
   "cell_type": "code",
   "execution_count": 4,
   "metadata": {},
   "outputs": [],
   "source": [
    "def get_stringy_row(row):\n",
    "    return str(row)\n",
    "\n",
    "def update_record(record_dict, row, move):\n",
    "    row_str = get_stringy_row(row)\n",
    "    if record_dict.__contains__(row_str):\n",
    "        moves = record_dict[row_str]\n",
    "    else:\n",
    "        moves = np.array([0,0,0,0])\n",
    "\n",
    "    moves[move] = moves[move] + 1\n",
    "    record_dict[row_str] = moves\n",
    "    return record_dict\n",
    "        "
   ]
  },
  {
   "cell_type": "code",
   "execution_count": 5,
   "metadata": {},
   "outputs": [],
   "source": [
    "def get_rot_template():\n",
    "    rot_move_map = {}\n",
    "    # Moves: UDLR -> 0123 \n",
    "    # Movement: 0->2, 2->1, 1->3, 3->0\n",
    "    rot_move_map[0] = 2\n",
    "    rot_move_map[2] = 1\n",
    "    rot_move_map[1] = 3\n",
    "    rot_move_map[3] = 0\n",
    "    return rot_move_map\n",
    "\n",
    "def augment_data(row, move):\n",
    "    rot_move_map = get_rot_template()\n",
    "    row_2d = row.reshape(4,4)\n",
    "    aug_row_arr = []\n",
    "    moves_arr = []\n",
    "    \n",
    "    if DATA_AUGMENTATION:\n",
    "        for n in range(len(rot_move_map)):\n",
    "            row_2d = np.rot90(row_2d, 1)\n",
    "            row = np.array(row_2d.flatten())\n",
    "            move = rot_move_map[move]\n",
    "            row = np.append(row, move)\n",
    "            aug_row_arr.append(row)\n",
    "    else:\n",
    "        row = np.append(row, move)\n",
    "        aug_row_arr.append(row)\n",
    "        \n",
    "    return aug_row_arr\n"
   ]
  },
  {
   "cell_type": "code",
   "execution_count": 6,
   "metadata": {},
   "outputs": [
    {
     "name": "stdout",
     "output_type": "stream",
     "text": [
      "Processing data for game 0\n",
      "Processing data for game 1\n",
      "Processing data for game 2\n",
      "Processing data for game 3\n",
      "Processing data for game 4\n",
      "Processing data for game 5\n",
      "Processing data for game 6\n",
      "Processing data for game 7\n",
      "Processing data for game 8\n",
      "Processing data for game 9\n"
     ]
    }
   ],
   "source": [
    "record_dict = {}\n",
    "total_moves = 0\n",
    "dropped_counter = 0\n",
    "for n_file in range(N_FILES):\n",
    "    filename = GAME_STATE_FILE_NAME + str(n_file) + GAME_STATE_FILE_EXT\n",
    "    data = load_data(file=filename, direc=GAMES_DIR)\n",
    "    data_col = data.columns\n",
    "    data = np.float32(data.values)\n",
    "    augmented_data = []\n",
    "    for n_row in range(len(data)):\n",
    "        row = data[n_row]\n",
    "        move, row = extract_move(row)\n",
    "        if not CAP_MAX_CELL_VALUE:\n",
    "            if np.max(row) > (2**MAX_CELL_VALUE_THRESHOLD):\n",
    "                dropped_counter = dropped_counter + 1\n",
    "                continue\n",
    "            \n",
    "        row = normalize_row(row)\n",
    "        aug_row_arr = augment_data(row, move)\n",
    "        augmented_data.extend(aug_row_arr)\n",
    "        \n",
    "    augmented_data = np.array(augmented_data)\n",
    "    data = augmented_data\n",
    "    total_moves = total_moves + len(data)\n",
    "    processed_data = pd.DataFrame(data, columns=data_col)\n",
    "    processed_data.to_csv(PROCESSED_GAMES_DIR + GAME_STATE_FILE_NAME + str(n_file) + GAME_STATE_FILE_EXT, sep=',', encoding='utf-8', index=False)\n",
    "    print(\"Processing data for game \"  + str(n_file))\n",
    "    \n",
    "    if SHOW_GRAPHS:\n",
    "        import matplotlib.pyplot as plt\n",
    "        print(\"Graphs for game\", n_file, \":\\n\")\n",
    "        %matplotlib inline\n",
    "        processed_data.hist(bins=50, figsize=(20,15))\n",
    "        plt.show()\n",
    "        import matplotlib.pyplot as plt\n",
    "    \n",
    "    for row in augmented_data:\n",
    "        move, row = extract_move(row)\n",
    "        record_dict = update_record(record_dict, row, move)"
   ]
  },
  {
   "cell_type": "code",
   "execution_count": 7,
   "metadata": {},
   "outputs": [
    {
     "name": "stdout",
     "output_type": "stream",
     "text": [
      "total_moves 165249\n",
      "total_counter 165221\n",
      "polluted_counter 0\n",
      "dropped_counter 0\n"
     ]
    }
   ],
   "source": [
    "total_counter = 0\n",
    "polluted_counter = 0\n",
    "for row_str in record_dict.keys():\n",
    "    total_counter = total_counter + 1\n",
    "    record = record_dict[row_str]\n",
    "    is_polluted = (np.max(record) / np.sum(record)) < 1\n",
    "    if is_polluted:\n",
    "        polluted_counter = polluted_counter + 1\n",
    "        print(\"Polluted Records: \", record)\n",
    "    \n",
    "print(\"total_moves\", total_moves)\n",
    "print(\"total_counter\", total_counter)\n",
    "print(\"polluted_counter\", polluted_counter)\n",
    "print(\"dropped_counter\",dropped_counter)"
   ]
  },
  {
   "cell_type": "code",
   "execution_count": null,
   "metadata": {},
   "outputs": [],
   "source": []
  }
 ],
 "metadata": {
  "kernelspec": {
   "display_name": "Python 3",
   "language": "python",
   "name": "python3"
  },
  "language_info": {
   "codemirror_mode": {
    "name": "ipython",
    "version": 3
   },
   "file_extension": ".py",
   "mimetype": "text/x-python",
   "name": "python",
   "nbconvert_exporter": "python",
   "pygments_lexer": "ipython3",
   "version": "3.6.4"
  }
 },
 "nbformat": 4,
 "nbformat_minor": 2
}
